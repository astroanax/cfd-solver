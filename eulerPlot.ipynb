{
 "cells": [
  {
   "cell_type": "code",
   "execution_count": 1,
   "metadata": {},
   "outputs": [],
   "source": [
    "import pandas as pd\n",
    "import numpy as np\n",
    "import plotly.express as px\n",
    "from plotly.subplots import make_subplots\n",
    "import plotly.graph_objects as go\n",
    "import os\n",
    "import sodshock"
   ]
  },
  {
   "cell_type": "markdown",
   "metadata": {},
   "source": [
    "## Obtain solution from exact Riemann solver"
   ]
  },
  {
   "cell_type": "code",
   "execution_count": 2,
   "metadata": {},
   "outputs": [],
   "source": [
    "gamma = 1.4\n",
    "dustFrac = 0.0\n",
    "npts = 1000\n",
    "t = 0.2\n",
    "left_state = (1,1,0)\n",
    "right_state = (0.1, 0.125, 0.)\n",
    "\n",
    "positions, regions, exact_solution = sodshock.solve(left_state=left_state, \\\n",
    "    right_state=right_state, geometry=(0., 1., 0.5), t=t, \n",
    "    gamma=gamma, npts=npts, dustFrac=dustFrac)"
   ]
  },
  {
   "cell_type": "markdown",
   "metadata": {},
   "source": [
    "## Find latest solution file and plot its solution"
   ]
  },
  {
   "cell_type": "code",
   "execution_count": null,
   "metadata": {},
   "outputs": [],
   "source": [
    "# get all filenames ending in *.csv within the build folder\n",
    "filenames_raw = [f for f in os.listdir('build') if f.endswith('.csv')]\n",
    "print('num solutions:', len(filenames_raw))\n",
    "\n",
    "# remove the .csv extension\n",
    "filenames = [f[:-4] for f in filenames_raw]\n",
    "\n",
    "# remove everything up to the third underscore\n",
    "filenames = [f[f.rfind('_') + 1:] for f in filenames]\n",
    "\n",
    "# convert strings into integers\n",
    "filenames = [int(f) for f in filenames]\n",
    "\n",
    "# get largest value in filenames\n",
    "max_value = max(filenames)\n",
    "\n",
    "# get sub-string of the first element in filenames_raw going from the first character to the third underscore\n",
    "sub_string = filenames_raw[0][:filenames_raw[0].rfind('_') + 1:]\n",
    "\n",
    "latest_solution = f'{sub_string}{max_value:06}.csv'\n",
    "print('last solution file:', latest_solution)\n",
    "\n",
    "df = pd.read_csv(f'build/{latest_solution}')\n",
    "\n",
    "# create reduced data frame to plot markers at consistent intervals (i.e. every 0.025 x-units)\n",
    "number_of_rows = len(df)\n",
    "interval_x_axis = 0.025\n",
    "interval = int(number_of_rows * interval_x_axis)\n",
    "indices = np.arange(len(df)) % interval == 0\n",
    "df_reduced =df.iloc[indices]\n",
    "\n",
    "# plot solution for each variable using subplots\n",
    "fig = make_subplots(rows=1, cols=3, subplot_titles=(\"density\", \"velocity\", \"pressure\"))\n",
    "fig.add_trace(go.Scatter(x=df['x'], y=df['rho'], name='density', mode='lines', line=dict(color=px.colors.qualitative.Plotly[0])), row=1, col=1)\n",
    "fig.add_trace(go.Scatter(x=df_reduced['x'], y=df_reduced['rho'], name='density', mode='markers', marker=dict(size=10, symbol='circle-open', color=px.colors.qualitative.Plotly[0])), row=1, col=1)\n",
    "fig.add_trace(go.Scatter(x=exact_solution['x'], y=exact_solution['rho'], name='exact density', line=dict(color='black')), row=1, col=1)\n",
    "\n",
    "fig.add_trace(go.Scatter(x=df['x'], y=df['u'], name='velocity', mode='lines', line=dict(color=px.colors.qualitative.Plotly[2])), row=1, col=2)\n",
    "fig.add_trace(go.Scatter(x=df_reduced['x'], y=df_reduced['u'], name='velocity', mode='markers', marker=dict(size=10, symbol='circle-open', color=px.colors.qualitative.Plotly[2])), row=1, col=2)\n",
    "fig.add_trace(go.Scatter(x=exact_solution['x'], y=exact_solution['u'], name='exact velocity', line=dict(color='black')), row=1, col=2)\n",
    "\n",
    "fig.add_trace(go.Scatter(x=df['x'], y=df['p'], name='pressure', mode='lines', line=dict(color=px.colors.qualitative.Plotly[6])), row=1, col=3)\n",
    "fig.add_trace(go.Scatter(x=df_reduced['x'], y=df_reduced['p'], name='pressure', mode='markers', marker=dict(size=10, symbol='circle-open', color=px.colors.qualitative.Plotly[6])), row=1, col=3)\n",
    "fig.add_trace(go.Scatter(x=exact_solution['x'], y=exact_solution['p'], name='exact pressure', line=dict(color='black')), row=1, col=3)\n",
    "\n",
    "fig.update_layout(font_size=20, height=400, width=1200, showlegend=False)\n",
    "fig.update_annotations(font_size=24)\n",
    "fig.show()"
   ]
  },
  {
   "cell_type": "markdown",
   "metadata": {},
   "source": [
    "## Animate entire solution"
   ]
  },
  {
   "cell_type": "code",
   "execution_count": null,
   "metadata": {},
   "outputs": [],
   "source": [
    "\n",
    "\n",
    "# animation speed (in frames per second, fps)\n",
    "fps = 60\n",
    "\n",
    "# get all filenames ending in *.csv within the build folder\n",
    "filenames_raw = [f for f in os.listdir('build') if f.endswith('.csv')]\n",
    "filenames_raw.sort()\n",
    "\n",
    "# read first latest_solution and plot\n",
    "df = pd.read_csv(f'build/{filenames_raw[0]}')\n",
    "fig = go.Figure(data=[go.Scatter(x=df['x'], y=df['rho'], name='rho', mode='lines'),\n",
    "                     go.Scatter(x=df['x'], y=df['u'], name='u', mode='lines'),\n",
    "                     go.Scatter(x=df['x'], y=df['p'], name='p', mode='lines')])\n",
    "fig.update_layout(template='plotly_dark')\n",
    "\n",
    "frames = list()\n",
    "for filename in filenames_raw[1:]:\n",
    "    df = pd.read_csv(f'build/{filename}')\n",
    "    frames.append(go.Frame(data=[go.Scatter(x=df['x'], y=df['rho'], name='rho', mode='lines'),\n",
    "                                go.Scatter(x=df['x'], y=df['u'], name='u', mode='lines'),\n",
    "                                go.Scatter(x=df['x'], y=df['p'], name='p', mode='lines')]))\n",
    "\n",
    "fig.update(frames=frames)\n",
    "fig.update_layout(updatemenus=[dict(type=\"buttons\", showactive=False, buttons=[dict(label=\"Play\", method=\"animate\",\n",
    "    args=[None, {\"frame\": {\"duration\": 1000/fps, \"redraw\": False},\n",
    "    \"fromcurrent\": True, \"transition\": {\"duration\": 300}}]), \n",
    "    dict(label=\"Pause\", method=\"animate\",\n",
    "    args=[[None], {\"frame\": {\"duration\": 0, \"redraw\": False},\n",
    "    \"mode\": \"immediate\", \"transition\": {\"duration\": 0}}])]\n",
    "    )])\n",
    "fig.show()"
   ]
  }
 ],
 "metadata": {
  "kernelspec": {
   "display_name": "Python 3",
   "language": "python",
   "name": "python3"
  },
  "language_info": {
   "codemirror_mode": {
    "name": "ipython",
    "version": 3
   },
   "file_extension": ".py",
   "mimetype": "text/x-python",
   "name": "python",
   "nbconvert_exporter": "python",
   "pygments_lexer": "ipython3",
   "version": "3.13.0"
  }
 },
 "nbformat": 4,
 "nbformat_minor": 4
}
